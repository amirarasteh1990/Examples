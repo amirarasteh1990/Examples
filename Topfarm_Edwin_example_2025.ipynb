{
  "nbformat": 4,
  "nbformat_minor": 0,
  "metadata": {
    "colab": {
      "provenance": [],
      "include_colab_link": true
    },
    "kernelspec": {
      "name": "python3",
      "display_name": "Python 3"
    },
    "language_info": {
      "name": "python"
    }
  },
  "cells": [
    {
      "cell_type": "markdown",
      "metadata": {
        "id": "view-in-github",
        "colab_type": "text"
      },
      "source": [
        "<a href=\"https://colab.research.google.com/github/amirarasteh1990/Examples/blob/main/Topfarm_Edwin_example_2025.ipynb\" target=\"_parent\"><img src=\"https://colab.research.google.com/assets/colab-badge.svg\" alt=\"Open In Colab\"/></a>"
      ]
    },
    {
      "cell_type": "code",
      "source": [
        "## INSTALL ALL REQUIRED PACKAGES\n",
        "import importlib\n",
        "if not importlib.util.find_spec(\"py_wake\"):\n",
        "  !pip install git+https://gitlab.windenergy.dtu.dk/TOPFARM/PyWake.git\n",
        "if not importlib.util.find_spec(\"topfarm\"):\n",
        "  !pip install git+https://gitlab.windenergy.dtu.dk/TOPFARM/TopFarm2.git\n",
        "if not importlib.util.find_spec(\"ed_win\"):\n",
        "  !pip install git+https://gitlab.windenergy.dtu.dk/TOPFARM/edwin.git#egg=ed_win[interarray]\n",
        "  # fix ortools version\n",
        "  !pip uninstall ortools -y\n",
        "  !pip install ortools==9.6.2534"
      ],
      "metadata": {
        "id": "wcUjZBPMqb5Q",
        "colab": {
          "base_uri": "https://localhost:8080/"
        },
        "outputId": "ea80c339-d949-4a7d-e8da-66a37e8ea965"
      },
      "execution_count": 1,
      "outputs": [
        {
          "output_type": "stream",
          "name": "stdout",
          "text": [
            "Collecting git+https://gitlab.windenergy.dtu.dk/TOPFARM/PyWake.git\n",
            "  Cloning https://gitlab.windenergy.dtu.dk/TOPFARM/PyWake.git to /tmp/pip-req-build-m4eou0wk\n",
            "  Running command git clone --filter=blob:none --quiet https://gitlab.windenergy.dtu.dk/TOPFARM/PyWake.git /tmp/pip-req-build-m4eou0wk\n",
            "  Resolved https://gitlab.windenergy.dtu.dk/TOPFARM/PyWake.git to commit 18d9a666858a205641c461386f31ae558cb5b155\n",
            "  Installing build dependencies ... \u001b[?25l\u001b[?25hdone\n",
            "  Getting requirements to build wheel ... \u001b[?25l\u001b[?25hdone\n",
            "  Preparing metadata (pyproject.toml) ... \u001b[?25l\u001b[?25hdone\n",
            "Collecting git-lfs (from py_wake==2.6.9)\n",
            "  Downloading git_lfs-1.6-py2.py3-none-any.whl.metadata (1.2 kB)\n",
            "Requirement already satisfied: matplotlib in /usr/local/lib/python3.11/dist-packages (from py_wake==2.6.9) (3.10.0)\n",
            "Requirement already satisfied: numpy in /usr/local/lib/python3.11/dist-packages (from py_wake==2.6.9) (2.0.2)\n",
            "Requirement already satisfied: xarray>=2024.6.1 in /usr/local/lib/python3.11/dist-packages (from py_wake==2.6.9) (2025.1.2)\n",
            "Collecting netcdf4 (from py_wake==2.6.9)\n",
            "  Downloading netCDF4-1.7.2-cp311-cp311-manylinux_2_17_x86_64.manylinux2014_x86_64.whl.metadata (1.8 kB)\n",
            "Requirement already satisfied: h5netcdf in /usr/local/lib/python3.11/dist-packages (from py_wake==2.6.9) (1.6.1)\n",
            "Requirement already satisfied: autograd in /usr/local/lib/python3.11/dist-packages (from py_wake==2.6.9) (1.7.0)\n",
            "Requirement already satisfied: pyyaml in /usr/local/lib/python3.11/dist-packages (from py_wake==2.6.9) (6.0.2)\n",
            "Requirement already satisfied: scipy in /usr/local/lib/python3.11/dist-packages (from py_wake==2.6.9) (1.14.1)\n",
            "Requirement already satisfied: tqdm in /usr/local/lib/python3.11/dist-packages (from py_wake==2.6.9) (4.67.1)\n",
            "Requirement already satisfied: joblib>=1.3 in /usr/local/lib/python3.11/dist-packages (from py_wake==2.6.9) (1.4.2)\n",
            "Requirement already satisfied: packaging>=23.2 in /usr/local/lib/python3.11/dist-packages (from xarray>=2024.6.1->py_wake==2.6.9) (24.2)\n",
            "Requirement already satisfied: pandas>=2.1 in /usr/local/lib/python3.11/dist-packages (from xarray>=2024.6.1->py_wake==2.6.9) (2.2.2)\n",
            "Requirement already satisfied: h5py in /usr/local/lib/python3.11/dist-packages (from h5netcdf->py_wake==2.6.9) (3.12.1)\n",
            "Requirement already satisfied: contourpy>=1.0.1 in /usr/local/lib/python3.11/dist-packages (from matplotlib->py_wake==2.6.9) (1.3.1)\n",
            "Requirement already satisfied: cycler>=0.10 in /usr/local/lib/python3.11/dist-packages (from matplotlib->py_wake==2.6.9) (0.12.1)\n",
            "Requirement already satisfied: fonttools>=4.22.0 in /usr/local/lib/python3.11/dist-packages (from matplotlib->py_wake==2.6.9) (4.56.0)\n",
            "Requirement already satisfied: kiwisolver>=1.3.1 in /usr/local/lib/python3.11/dist-packages (from matplotlib->py_wake==2.6.9) (1.4.8)\n",
            "Requirement already satisfied: pillow>=8 in /usr/local/lib/python3.11/dist-packages (from matplotlib->py_wake==2.6.9) (11.1.0)\n",
            "Requirement already satisfied: pyparsing>=2.3.1 in /usr/local/lib/python3.11/dist-packages (from matplotlib->py_wake==2.6.9) (3.2.1)\n",
            "Requirement already satisfied: python-dateutil>=2.7 in /usr/local/lib/python3.11/dist-packages (from matplotlib->py_wake==2.6.9) (2.8.2)\n",
            "Collecting cftime (from netcdf4->py_wake==2.6.9)\n",
            "  Downloading cftime-1.6.4.post1-cp311-cp311-manylinux_2_17_x86_64.manylinux2014_x86_64.whl.metadata (8.7 kB)\n",
            "Requirement already satisfied: certifi in /usr/local/lib/python3.11/dist-packages (from netcdf4->py_wake==2.6.9) (2025.1.31)\n",
            "Requirement already satisfied: pytz>=2020.1 in /usr/local/lib/python3.11/dist-packages (from pandas>=2.1->xarray>=2024.6.1->py_wake==2.6.9) (2025.1)\n",
            "Requirement already satisfied: tzdata>=2022.7 in /usr/local/lib/python3.11/dist-packages (from pandas>=2.1->xarray>=2024.6.1->py_wake==2.6.9) (2025.1)\n",
            "Requirement already satisfied: six>=1.5 in /usr/local/lib/python3.11/dist-packages (from python-dateutil>=2.7->matplotlib->py_wake==2.6.9) (1.17.0)\n",
            "Downloading git_lfs-1.6-py2.py3-none-any.whl (5.6 kB)\n",
            "Downloading netCDF4-1.7.2-cp311-cp311-manylinux_2_17_x86_64.manylinux2014_x86_64.whl (9.3 MB)\n",
            "\u001b[2K   \u001b[90m━━━━━━━━━━━━━━━━━━━━━━━━━━━━━━━━━━━━━━━━\u001b[0m \u001b[32m9.3/9.3 MB\u001b[0m \u001b[31m43.4 MB/s\u001b[0m eta \u001b[36m0:00:00\u001b[0m\n",
            "\u001b[?25hDownloading cftime-1.6.4.post1-cp311-cp311-manylinux_2_17_x86_64.manylinux2014_x86_64.whl (1.4 MB)\n",
            "\u001b[2K   \u001b[90m━━━━━━━━━━━━━━━━━━━━━━━━━━━━━━━━━━━━━━━━\u001b[0m \u001b[32m1.4/1.4 MB\u001b[0m \u001b[31m51.9 MB/s\u001b[0m eta \u001b[36m0:00:00\u001b[0m\n",
            "\u001b[?25hBuilding wheels for collected packages: py_wake\n",
            "  Building wheel for py_wake (pyproject.toml) ... \u001b[?25l\u001b[?25hdone\n",
            "  Created wheel for py_wake: filename=py_wake-2.6.9-py3-none-any.whl size=19890101 sha256=4591ded51386812acf8684f8de897db51ca85bc319d5e32950b4b5c320b2fa7e\n",
            "  Stored in directory: /tmp/pip-ephem-wheel-cache-j7nz1iop/wheels/76/2f/75/c056f102fb42126f415398d5817b64ad9edbe27227039b02b3\n",
            "Successfully built py_wake\n",
            "Installing collected packages: git-lfs, cftime, netcdf4, py_wake\n",
            "Successfully installed cftime-1.6.4.post1 git-lfs-1.6 netcdf4-1.7.2 py_wake-2.6.9\n",
            "Collecting git+https://gitlab.windenergy.dtu.dk/TOPFARM/TopFarm2.git\n",
            "  Cloning https://gitlab.windenergy.dtu.dk/TOPFARM/TopFarm2.git to /tmp/pip-req-build-x3ocqulb\n",
            "  Running command git clone --filter=blob:none --quiet https://gitlab.windenergy.dtu.dk/TOPFARM/TopFarm2.git /tmp/pip-req-build-x3ocqulb\n",
            "  Resolved https://gitlab.windenergy.dtu.dk/TOPFARM/TopFarm2.git to commit fb5b0bb26f307630e7f06b000de4f1b0682e5305\n",
            "  Installing build dependencies ... \u001b[?25l\u001b[?25hdone\n",
            "  Getting requirements to build wheel ... \u001b[?25l\u001b[?25hdone\n",
            "  Preparing metadata (pyproject.toml) ... \u001b[?25l\u001b[?25hdone\n",
            "Collecting jupyterlab<5,>=4.2.5 (from topfarm==2.5.1.post2)\n",
            "  Downloading jupyterlab-4.3.6-py3-none-any.whl.metadata (16 kB)\n",
            "Requirement already satisfied: matplotlib<4,>=3.7.5 in /usr/local/lib/python3.11/dist-packages (from topfarm==2.5.1.post2) (3.10.0)\n",
            "Collecting numpy-financial<2,>=1.0.0 (from topfarm==2.5.1.post2)\n",
            "  Downloading numpy_financial-1.0.0-py3-none-any.whl.metadata (2.2 kB)\n",
            "Requirement already satisfied: numpy<3,>=1.24.3 in /usr/local/lib/python3.11/dist-packages (from topfarm==2.5.1.post2) (2.0.2)\n",
            "Collecting openmdao<=4,>=3.27 (from topfarm==2.5.1.post2)\n",
            "  Downloading openmdao-3.38.0.tar.gz (12.6 MB)\n",
            "\u001b[2K     \u001b[90m━━━━━━━━━━━━━━━━━━━━━━━━━━━━━━━━━━━━━━━━\u001b[0m \u001b[32m12.6/12.6 MB\u001b[0m \u001b[31m92.2 MB/s\u001b[0m eta \u001b[36m0:00:00\u001b[0m\n",
            "\u001b[?25h  Installing build dependencies ... \u001b[?25l\u001b[?25hdone\n",
            "  Getting requirements to build wheel ... \u001b[?25l\u001b[?25hdone\n",
            "  Preparing metadata (pyproject.toml) ... \u001b[?25l\u001b[?25hdone\n",
            "Requirement already satisfied: py-wake<3,>=2.6.5 in /usr/local/lib/python3.11/dist-packages (from topfarm==2.5.1.post2) (2.6.9)\n",
            "Collecting pydoe2<2,>=1.3.0 (from topfarm==2.5.1.post2)\n",
            "  Downloading pyDOE2-1.3.0.tar.gz (19 kB)\n",
            "  Preparing metadata (setup.py) ... \u001b[?25l\u001b[?25hdone\n",
            "Collecting pydoe3<2,>=1.0.4 (from topfarm==2.5.1.post2)\n",
            "  Downloading pydoe3-1.0.4-py2.py3-none-any.whl.metadata (4.2 kB)\n",
            "Requirement already satisfied: scikit-learn<2,>=1.3.2 in /usr/local/lib/python3.11/dist-packages (from topfarm==2.5.1.post2) (1.6.1)\n",
            "Requirement already satisfied: scipy<2,>=1.10.1 in /usr/local/lib/python3.11/dist-packages (from topfarm==2.5.1.post2) (1.14.1)\n",
            "Requirement already satisfied: shapely<3,>=2.0.6 in /usr/local/lib/python3.11/dist-packages (from topfarm==2.5.1.post2) (2.0.7)\n",
            "Collecting async-lru>=1.0.0 (from jupyterlab<5,>=4.2.5->topfarm==2.5.1.post2)\n",
            "  Downloading async_lru-2.0.5-py3-none-any.whl.metadata (4.5 kB)\n",
            "Requirement already satisfied: httpx>=0.25.0 in /usr/local/lib/python3.11/dist-packages (from jupyterlab<5,>=4.2.5->topfarm==2.5.1.post2) (0.28.1)\n",
            "Requirement already satisfied: ipykernel>=6.5.0 in /usr/local/lib/python3.11/dist-packages (from jupyterlab<5,>=4.2.5->topfarm==2.5.1.post2) (6.17.1)\n",
            "Requirement already satisfied: jinja2>=3.0.3 in /usr/local/lib/python3.11/dist-packages (from jupyterlab<5,>=4.2.5->topfarm==2.5.1.post2) (3.1.6)\n",
            "Requirement already satisfied: jupyter-core in /usr/local/lib/python3.11/dist-packages (from jupyterlab<5,>=4.2.5->topfarm==2.5.1.post2) (5.7.2)\n",
            "Collecting jupyter-lsp>=2.0.0 (from jupyterlab<5,>=4.2.5->topfarm==2.5.1.post2)\n",
            "  Downloading jupyter_lsp-2.2.5-py3-none-any.whl.metadata (1.8 kB)\n",
            "Collecting jupyter-server<3,>=2.4.0 (from jupyterlab<5,>=4.2.5->topfarm==2.5.1.post2)\n",
            "  Downloading jupyter_server-2.15.0-py3-none-any.whl.metadata (8.4 kB)\n",
            "Collecting jupyterlab-server<3,>=2.27.1 (from jupyterlab<5,>=4.2.5->topfarm==2.5.1.post2)\n",
            "  Downloading jupyterlab_server-2.27.3-py3-none-any.whl.metadata (5.9 kB)\n",
            "Requirement already satisfied: notebook-shim>=0.2 in /usr/local/lib/python3.11/dist-packages (from jupyterlab<5,>=4.2.5->topfarm==2.5.1.post2) (0.2.4)\n",
            "Requirement already satisfied: packaging in /usr/local/lib/python3.11/dist-packages (from jupyterlab<5,>=4.2.5->topfarm==2.5.1.post2) (24.2)\n",
            "Requirement already satisfied: setuptools>=40.8.0 in /usr/local/lib/python3.11/dist-packages (from jupyterlab<5,>=4.2.5->topfarm==2.5.1.post2) (75.1.0)\n",
            "Requirement already satisfied: tornado>=6.2.0 in /usr/local/lib/python3.11/dist-packages (from jupyterlab<5,>=4.2.5->topfarm==2.5.1.post2) (6.4.2)\n",
            "Requirement already satisfied: traitlets in /usr/local/lib/python3.11/dist-packages (from jupyterlab<5,>=4.2.5->topfarm==2.5.1.post2) (5.7.1)\n",
            "Requirement already satisfied: contourpy>=1.0.1 in /usr/local/lib/python3.11/dist-packages (from matplotlib<4,>=3.7.5->topfarm==2.5.1.post2) (1.3.1)\n",
            "Requirement already satisfied: cycler>=0.10 in /usr/local/lib/python3.11/dist-packages (from matplotlib<4,>=3.7.5->topfarm==2.5.1.post2) (0.12.1)\n",
            "Requirement already satisfied: fonttools>=4.22.0 in /usr/local/lib/python3.11/dist-packages (from matplotlib<4,>=3.7.5->topfarm==2.5.1.post2) (4.56.0)\n",
            "Requirement already satisfied: kiwisolver>=1.3.1 in /usr/local/lib/python3.11/dist-packages (from matplotlib<4,>=3.7.5->topfarm==2.5.1.post2) (1.4.8)\n",
            "Requirement already satisfied: pillow>=8 in /usr/local/lib/python3.11/dist-packages (from matplotlib<4,>=3.7.5->topfarm==2.5.1.post2) (11.1.0)\n",
            "Requirement already satisfied: pyparsing>=2.3.1 in /usr/local/lib/python3.11/dist-packages (from matplotlib<4,>=3.7.5->topfarm==2.5.1.post2) (3.2.1)\n",
            "Requirement already satisfied: python-dateutil>=2.7 in /usr/local/lib/python3.11/dist-packages (from matplotlib<4,>=3.7.5->topfarm==2.5.1.post2) (2.8.2)\n",
            "Requirement already satisfied: networkx>=2.0 in /usr/local/lib/python3.11/dist-packages (from openmdao<=4,>=3.27->topfarm==2.5.1.post2) (3.4.2)\n",
            "Requirement already satisfied: requests in /usr/local/lib/python3.11/dist-packages (from openmdao<=4,>=3.27->topfarm==2.5.1.post2) (2.32.3)\n",
            "Requirement already satisfied: git-lfs in /usr/local/lib/python3.11/dist-packages (from py-wake<3,>=2.6.5->topfarm==2.5.1.post2) (1.6)\n",
            "Requirement already satisfied: xarray>=2024.6.1 in /usr/local/lib/python3.11/dist-packages (from py-wake<3,>=2.6.5->topfarm==2.5.1.post2) (2025.1.2)\n",
            "Requirement already satisfied: netcdf4 in /usr/local/lib/python3.11/dist-packages (from py-wake<3,>=2.6.5->topfarm==2.5.1.post2) (1.7.2)\n",
            "Requirement already satisfied: h5netcdf in /usr/local/lib/python3.11/dist-packages (from py-wake<3,>=2.6.5->topfarm==2.5.1.post2) (1.6.1)\n",
            "Requirement already satisfied: autograd in /usr/local/lib/python3.11/dist-packages (from py-wake<3,>=2.6.5->topfarm==2.5.1.post2) (1.7.0)\n",
            "Requirement already satisfied: pyyaml in /usr/local/lib/python3.11/dist-packages (from py-wake<3,>=2.6.5->topfarm==2.5.1.post2) (6.0.2)\n",
            "Requirement already satisfied: tqdm in /usr/local/lib/python3.11/dist-packages (from py-wake<3,>=2.6.5->topfarm==2.5.1.post2) (4.67.1)\n",
            "Requirement already satisfied: joblib>=1.3 in /usr/local/lib/python3.11/dist-packages (from py-wake<3,>=2.6.5->topfarm==2.5.1.post2) (1.4.2)\n",
            "Requirement already satisfied: threadpoolctl>=3.1.0 in /usr/local/lib/python3.11/dist-packages (from scikit-learn<2,>=1.3.2->topfarm==2.5.1.post2) (3.6.0)\n",
            "Requirement already satisfied: anyio in /usr/local/lib/python3.11/dist-packages (from httpx>=0.25.0->jupyterlab<5,>=4.2.5->topfarm==2.5.1.post2) (3.7.1)\n",
            "Requirement already satisfied: certifi in /usr/local/lib/python3.11/dist-packages (from httpx>=0.25.0->jupyterlab<5,>=4.2.5->topfarm==2.5.1.post2) (2025.1.31)\n",
            "Requirement already satisfied: httpcore==1.* in /usr/local/lib/python3.11/dist-packages (from httpx>=0.25.0->jupyterlab<5,>=4.2.5->topfarm==2.5.1.post2) (1.0.7)\n",
            "Requirement already satisfied: idna in /usr/local/lib/python3.11/dist-packages (from httpx>=0.25.0->jupyterlab<5,>=4.2.5->topfarm==2.5.1.post2) (3.10)\n",
            "Requirement already satisfied: h11<0.15,>=0.13 in /usr/local/lib/python3.11/dist-packages (from httpcore==1.*->httpx>=0.25.0->jupyterlab<5,>=4.2.5->topfarm==2.5.1.post2) (0.14.0)\n",
            "Requirement already satisfied: debugpy>=1.0 in /usr/local/lib/python3.11/dist-packages (from ipykernel>=6.5.0->jupyterlab<5,>=4.2.5->topfarm==2.5.1.post2) (1.8.0)\n",
            "Requirement already satisfied: ipython>=7.23.1 in /usr/local/lib/python3.11/dist-packages (from ipykernel>=6.5.0->jupyterlab<5,>=4.2.5->topfarm==2.5.1.post2) (7.34.0)\n",
            "Requirement already satisfied: jupyter-client>=6.1.12 in /usr/local/lib/python3.11/dist-packages (from ipykernel>=6.5.0->jupyterlab<5,>=4.2.5->topfarm==2.5.1.post2) (6.1.12)\n",
            "Requirement already satisfied: matplotlib-inline>=0.1 in /usr/local/lib/python3.11/dist-packages (from ipykernel>=6.5.0->jupyterlab<5,>=4.2.5->topfarm==2.5.1.post2) (0.1.7)\n",
            "Requirement already satisfied: nest-asyncio in /usr/local/lib/python3.11/dist-packages (from ipykernel>=6.5.0->jupyterlab<5,>=4.2.5->topfarm==2.5.1.post2) (1.6.0)\n",
            "Requirement already satisfied: psutil in /usr/local/lib/python3.11/dist-packages (from ipykernel>=6.5.0->jupyterlab<5,>=4.2.5->topfarm==2.5.1.post2) (5.9.5)\n",
            "Requirement already satisfied: pyzmq>=17 in /usr/local/lib/python3.11/dist-packages (from ipykernel>=6.5.0->jupyterlab<5,>=4.2.5->topfarm==2.5.1.post2) (24.0.1)\n",
            "Requirement already satisfied: MarkupSafe>=2.0 in /usr/local/lib/python3.11/dist-packages (from jinja2>=3.0.3->jupyterlab<5,>=4.2.5->topfarm==2.5.1.post2) (3.0.2)\n",
            "Requirement already satisfied: argon2-cffi>=21.1 in /usr/local/lib/python3.11/dist-packages (from jupyter-server<3,>=2.4.0->jupyterlab<5,>=4.2.5->topfarm==2.5.1.post2) (23.1.0)\n",
            "Collecting jupyter-client>=6.1.12 (from ipykernel>=6.5.0->jupyterlab<5,>=4.2.5->topfarm==2.5.1.post2)\n",
            "  Downloading jupyter_client-8.6.3-py3-none-any.whl.metadata (8.3 kB)\n",
            "Collecting jupyter-events>=0.11.0 (from jupyter-server<3,>=2.4.0->jupyterlab<5,>=4.2.5->topfarm==2.5.1.post2)\n",
            "  Downloading jupyter_events-0.12.0-py3-none-any.whl.metadata (5.8 kB)\n",
            "Collecting jupyter-server-terminals>=0.4.4 (from jupyter-server<3,>=2.4.0->jupyterlab<5,>=4.2.5->topfarm==2.5.1.post2)\n",
            "  Downloading jupyter_server_terminals-0.5.3-py3-none-any.whl.metadata (5.6 kB)\n",
            "Requirement already satisfied: nbconvert>=6.4.4 in /usr/local/lib/python3.11/dist-packages (from jupyter-server<3,>=2.4.0->jupyterlab<5,>=4.2.5->topfarm==2.5.1.post2) (7.16.6)\n",
            "Requirement already satisfied: nbformat>=5.3.0 in /usr/local/lib/python3.11/dist-packages (from jupyter-server<3,>=2.4.0->jupyterlab<5,>=4.2.5->topfarm==2.5.1.post2) (5.10.4)\n",
            "Collecting overrides>=5.0 (from jupyter-server<3,>=2.4.0->jupyterlab<5,>=4.2.5->topfarm==2.5.1.post2)\n",
            "  Downloading overrides-7.7.0-py3-none-any.whl.metadata (5.8 kB)\n",
            "Requirement already satisfied: prometheus-client>=0.9 in /usr/local/lib/python3.11/dist-packages (from jupyter-server<3,>=2.4.0->jupyterlab<5,>=4.2.5->topfarm==2.5.1.post2) (0.21.1)\n",
            "Requirement already satisfied: send2trash>=1.8.2 in /usr/local/lib/python3.11/dist-packages (from jupyter-server<3,>=2.4.0->jupyterlab<5,>=4.2.5->topfarm==2.5.1.post2) (1.8.3)\n",
            "Requirement already satisfied: terminado>=0.8.3 in /usr/local/lib/python3.11/dist-packages (from jupyter-server<3,>=2.4.0->jupyterlab<5,>=4.2.5->topfarm==2.5.1.post2) (0.18.1)\n",
            "Requirement already satisfied: websocket-client>=1.7 in /usr/local/lib/python3.11/dist-packages (from jupyter-server<3,>=2.4.0->jupyterlab<5,>=4.2.5->topfarm==2.5.1.post2) (1.8.0)\n",
            "Requirement already satisfied: platformdirs>=2.5 in /usr/local/lib/python3.11/dist-packages (from jupyter-core->jupyterlab<5,>=4.2.5->topfarm==2.5.1.post2) (4.3.6)\n",
            "Requirement already satisfied: babel>=2.10 in /usr/local/lib/python3.11/dist-packages (from jupyterlab-server<3,>=2.27.1->jupyterlab<5,>=4.2.5->topfarm==2.5.1.post2) (2.17.0)\n",
            "Collecting json5>=0.9.0 (from jupyterlab-server<3,>=2.27.1->jupyterlab<5,>=4.2.5->topfarm==2.5.1.post2)\n",
            "  Downloading json5-0.10.0-py3-none-any.whl.metadata (34 kB)\n",
            "Requirement already satisfied: jsonschema>=4.18.0 in /usr/local/lib/python3.11/dist-packages (from jupyterlab-server<3,>=2.27.1->jupyterlab<5,>=4.2.5->topfarm==2.5.1.post2) (4.23.0)\n",
            "Requirement already satisfied: six>=1.5 in /usr/local/lib/python3.11/dist-packages (from python-dateutil>=2.7->matplotlib<4,>=3.7.5->topfarm==2.5.1.post2) (1.17.0)\n",
            "Requirement already satisfied: charset-normalizer<4,>=2 in /usr/local/lib/python3.11/dist-packages (from requests->openmdao<=4,>=3.27->topfarm==2.5.1.post2) (3.4.1)\n",
            "Requirement already satisfied: urllib3<3,>=1.21.1 in /usr/local/lib/python3.11/dist-packages (from requests->openmdao<=4,>=3.27->topfarm==2.5.1.post2) (2.3.0)\n",
            "Requirement already satisfied: pandas>=2.1 in /usr/local/lib/python3.11/dist-packages (from xarray>=2024.6.1->py-wake<3,>=2.6.5->topfarm==2.5.1.post2) (2.2.2)\n",
            "Requirement already satisfied: h5py in /usr/local/lib/python3.11/dist-packages (from h5netcdf->py-wake<3,>=2.6.5->topfarm==2.5.1.post2) (3.12.1)\n",
            "Requirement already satisfied: cftime in /usr/local/lib/python3.11/dist-packages (from netcdf4->py-wake<3,>=2.6.5->topfarm==2.5.1.post2) (1.6.4.post1)\n",
            "Requirement already satisfied: sniffio>=1.1 in /usr/local/lib/python3.11/dist-packages (from anyio->httpx>=0.25.0->jupyterlab<5,>=4.2.5->topfarm==2.5.1.post2) (1.3.1)\n",
            "Requirement already satisfied: argon2-cffi-bindings in /usr/local/lib/python3.11/dist-packages (from argon2-cffi>=21.1->jupyter-server<3,>=2.4.0->jupyterlab<5,>=4.2.5->topfarm==2.5.1.post2) (21.2.0)\n",
            "Collecting jedi>=0.16 (from ipython>=7.23.1->ipykernel>=6.5.0->jupyterlab<5,>=4.2.5->topfarm==2.5.1.post2)\n",
            "  Downloading jedi-0.19.2-py2.py3-none-any.whl.metadata (22 kB)\n",
            "Requirement already satisfied: decorator in /usr/local/lib/python3.11/dist-packages (from ipython>=7.23.1->ipykernel>=6.5.0->jupyterlab<5,>=4.2.5->topfarm==2.5.1.post2) (4.4.2)\n",
            "Requirement already satisfied: pickleshare in /usr/local/lib/python3.11/dist-packages (from ipython>=7.23.1->ipykernel>=6.5.0->jupyterlab<5,>=4.2.5->topfarm==2.5.1.post2) (0.7.5)\n",
            "Requirement already satisfied: prompt-toolkit!=3.0.0,!=3.0.1,<3.1.0,>=2.0.0 in /usr/local/lib/python3.11/dist-packages (from ipython>=7.23.1->ipykernel>=6.5.0->jupyterlab<5,>=4.2.5->topfarm==2.5.1.post2) (3.0.50)\n",
            "Requirement already satisfied: pygments in /usr/local/lib/python3.11/dist-packages (from ipython>=7.23.1->ipykernel>=6.5.0->jupyterlab<5,>=4.2.5->topfarm==2.5.1.post2) (2.18.0)\n",
            "Requirement already satisfied: backcall in /usr/local/lib/python3.11/dist-packages (from ipython>=7.23.1->ipykernel>=6.5.0->jupyterlab<5,>=4.2.5->topfarm==2.5.1.post2) (0.2.0)\n",
            "Requirement already satisfied: pexpect>4.3 in /usr/local/lib/python3.11/dist-packages (from ipython>=7.23.1->ipykernel>=6.5.0->jupyterlab<5,>=4.2.5->topfarm==2.5.1.post2) (4.9.0)\n",
            "Requirement already satisfied: attrs>=22.2.0 in /usr/local/lib/python3.11/dist-packages (from jsonschema>=4.18.0->jupyterlab-server<3,>=2.27.1->jupyterlab<5,>=4.2.5->topfarm==2.5.1.post2) (25.3.0)\n",
            "Requirement already satisfied: jsonschema-specifications>=2023.03.6 in /usr/local/lib/python3.11/dist-packages (from jsonschema>=4.18.0->jupyterlab-server<3,>=2.27.1->jupyterlab<5,>=4.2.5->topfarm==2.5.1.post2) (2024.10.1)\n",
            "Requirement already satisfied: referencing>=0.28.4 in /usr/local/lib/python3.11/dist-packages (from jsonschema>=4.18.0->jupyterlab-server<3,>=2.27.1->jupyterlab<5,>=4.2.5->topfarm==2.5.1.post2) (0.36.2)\n",
            "Requirement already satisfied: rpds-py>=0.7.1 in /usr/local/lib/python3.11/dist-packages (from jsonschema>=4.18.0->jupyterlab-server<3,>=2.27.1->jupyterlab<5,>=4.2.5->topfarm==2.5.1.post2) (0.23.1)\n",
            "Collecting python-json-logger>=2.0.4 (from jupyter-events>=0.11.0->jupyter-server<3,>=2.4.0->jupyterlab<5,>=4.2.5->topfarm==2.5.1.post2)\n",
            "  Downloading python_json_logger-3.3.0-py3-none-any.whl.metadata (4.0 kB)\n",
            "Collecting rfc3339-validator (from jupyter-events>=0.11.0->jupyter-server<3,>=2.4.0->jupyterlab<5,>=4.2.5->topfarm==2.5.1.post2)\n",
            "  Downloading rfc3339_validator-0.1.4-py2.py3-none-any.whl.metadata (1.5 kB)\n",
            "Collecting rfc3986-validator>=0.1.1 (from jupyter-events>=0.11.0->jupyter-server<3,>=2.4.0->jupyterlab<5,>=4.2.5->topfarm==2.5.1.post2)\n",
            "  Downloading rfc3986_validator-0.1.1-py2.py3-none-any.whl.metadata (1.7 kB)\n",
            "Requirement already satisfied: beautifulsoup4 in /usr/local/lib/python3.11/dist-packages (from nbconvert>=6.4.4->jupyter-server<3,>=2.4.0->jupyterlab<5,>=4.2.5->topfarm==2.5.1.post2) (4.13.3)\n",
            "Requirement already satisfied: bleach!=5.0.0 in /usr/local/lib/python3.11/dist-packages (from bleach[css]!=5.0.0->nbconvert>=6.4.4->jupyter-server<3,>=2.4.0->jupyterlab<5,>=4.2.5->topfarm==2.5.1.post2) (6.2.0)\n",
            "Requirement already satisfied: defusedxml in /usr/local/lib/python3.11/dist-packages (from nbconvert>=6.4.4->jupyter-server<3,>=2.4.0->jupyterlab<5,>=4.2.5->topfarm==2.5.1.post2) (0.7.1)\n",
            "Requirement already satisfied: jupyterlab-pygments in /usr/local/lib/python3.11/dist-packages (from nbconvert>=6.4.4->jupyter-server<3,>=2.4.0->jupyterlab<5,>=4.2.5->topfarm==2.5.1.post2) (0.3.0)\n",
            "Requirement already satisfied: mistune<4,>=2.0.3 in /usr/local/lib/python3.11/dist-packages (from nbconvert>=6.4.4->jupyter-server<3,>=2.4.0->jupyterlab<5,>=4.2.5->topfarm==2.5.1.post2) (3.1.2)\n",
            "Requirement already satisfied: nbclient>=0.5.0 in /usr/local/lib/python3.11/dist-packages (from nbconvert>=6.4.4->jupyter-server<3,>=2.4.0->jupyterlab<5,>=4.2.5->topfarm==2.5.1.post2) (0.10.2)\n",
            "Requirement already satisfied: pandocfilters>=1.4.1 in /usr/local/lib/python3.11/dist-packages (from nbconvert>=6.4.4->jupyter-server<3,>=2.4.0->jupyterlab<5,>=4.2.5->topfarm==2.5.1.post2) (1.5.1)\n",
            "Requirement already satisfied: fastjsonschema>=2.15 in /usr/local/lib/python3.11/dist-packages (from nbformat>=5.3.0->jupyter-server<3,>=2.4.0->jupyterlab<5,>=4.2.5->topfarm==2.5.1.post2) (2.21.1)\n",
            "Requirement already satisfied: pytz>=2020.1 in /usr/local/lib/python3.11/dist-packages (from pandas>=2.1->xarray>=2024.6.1->py-wake<3,>=2.6.5->topfarm==2.5.1.post2) (2025.1)\n",
            "Requirement already satisfied: tzdata>=2022.7 in /usr/local/lib/python3.11/dist-packages (from pandas>=2.1->xarray>=2024.6.1->py-wake<3,>=2.6.5->topfarm==2.5.1.post2) (2025.1)\n",
            "Requirement already satisfied: ptyprocess in /usr/local/lib/python3.11/dist-packages (from terminado>=0.8.3->jupyter-server<3,>=2.4.0->jupyterlab<5,>=4.2.5->topfarm==2.5.1.post2) (0.7.0)\n",
            "Requirement already satisfied: webencodings in /usr/local/lib/python3.11/dist-packages (from bleach!=5.0.0->bleach[css]!=5.0.0->nbconvert>=6.4.4->jupyter-server<3,>=2.4.0->jupyterlab<5,>=4.2.5->topfarm==2.5.1.post2) (0.5.1)\n",
            "Requirement already satisfied: tinycss2<1.5,>=1.1.0 in /usr/local/lib/python3.11/dist-packages (from bleach[css]!=5.0.0->nbconvert>=6.4.4->jupyter-server<3,>=2.4.0->jupyterlab<5,>=4.2.5->topfarm==2.5.1.post2) (1.4.0)\n",
            "Requirement already satisfied: parso<0.9.0,>=0.8.4 in /usr/local/lib/python3.11/dist-packages (from jedi>=0.16->ipython>=7.23.1->ipykernel>=6.5.0->jupyterlab<5,>=4.2.5->topfarm==2.5.1.post2) (0.8.4)\n",
            "Collecting fqdn (from jsonschema[format-nongpl]>=4.18.0->jupyter-events>=0.11.0->jupyter-server<3,>=2.4.0->jupyterlab<5,>=4.2.5->topfarm==2.5.1.post2)\n",
            "  Downloading fqdn-1.5.1-py3-none-any.whl.metadata (1.4 kB)\n",
            "Collecting isoduration (from jsonschema[format-nongpl]>=4.18.0->jupyter-events>=0.11.0->jupyter-server<3,>=2.4.0->jupyterlab<5,>=4.2.5->topfarm==2.5.1.post2)\n",
            "  Downloading isoduration-20.11.0-py3-none-any.whl.metadata (5.7 kB)\n",
            "Requirement already satisfied: jsonpointer>1.13 in /usr/local/lib/python3.11/dist-packages (from jsonschema[format-nongpl]>=4.18.0->jupyter-events>=0.11.0->jupyter-server<3,>=2.4.0->jupyterlab<5,>=4.2.5->topfarm==2.5.1.post2) (3.0.0)\n",
            "Collecting uri-template (from jsonschema[format-nongpl]>=4.18.0->jupyter-events>=0.11.0->jupyter-server<3,>=2.4.0->jupyterlab<5,>=4.2.5->topfarm==2.5.1.post2)\n",
            "  Downloading uri_template-1.3.0-py3-none-any.whl.metadata (8.8 kB)\n",
            "Requirement already satisfied: webcolors>=24.6.0 in /usr/local/lib/python3.11/dist-packages (from jsonschema[format-nongpl]>=4.18.0->jupyter-events>=0.11.0->jupyter-server<3,>=2.4.0->jupyterlab<5,>=4.2.5->topfarm==2.5.1.post2) (24.11.1)\n",
            "Requirement already satisfied: wcwidth in /usr/local/lib/python3.11/dist-packages (from prompt-toolkit!=3.0.0,!=3.0.1,<3.1.0,>=2.0.0->ipython>=7.23.1->ipykernel>=6.5.0->jupyterlab<5,>=4.2.5->topfarm==2.5.1.post2) (0.2.13)\n",
            "Requirement already satisfied: typing-extensions>=4.4.0 in /usr/local/lib/python3.11/dist-packages (from referencing>=0.28.4->jsonschema>=4.18.0->jupyterlab-server<3,>=2.27.1->jupyterlab<5,>=4.2.5->topfarm==2.5.1.post2) (4.12.2)\n",
            "Requirement already satisfied: cffi>=1.0.1 in /usr/local/lib/python3.11/dist-packages (from argon2-cffi-bindings->argon2-cffi>=21.1->jupyter-server<3,>=2.4.0->jupyterlab<5,>=4.2.5->topfarm==2.5.1.post2) (1.17.1)\n",
            "Requirement already satisfied: soupsieve>1.2 in /usr/local/lib/python3.11/dist-packages (from beautifulsoup4->nbconvert>=6.4.4->jupyter-server<3,>=2.4.0->jupyterlab<5,>=4.2.5->topfarm==2.5.1.post2) (2.6)\n",
            "Requirement already satisfied: pycparser in /usr/local/lib/python3.11/dist-packages (from cffi>=1.0.1->argon2-cffi-bindings->argon2-cffi>=21.1->jupyter-server<3,>=2.4.0->jupyterlab<5,>=4.2.5->topfarm==2.5.1.post2) (2.22)\n",
            "Collecting arrow>=0.15.0 (from isoduration->jsonschema[format-nongpl]>=4.18.0->jupyter-events>=0.11.0->jupyter-server<3,>=2.4.0->jupyterlab<5,>=4.2.5->topfarm==2.5.1.post2)\n",
            "  Downloading arrow-1.3.0-py3-none-any.whl.metadata (7.5 kB)\n",
            "Collecting types-python-dateutil>=2.8.10 (from arrow>=0.15.0->isoduration->jsonschema[format-nongpl]>=4.18.0->jupyter-events>=0.11.0->jupyter-server<3,>=2.4.0->jupyterlab<5,>=4.2.5->topfarm==2.5.1.post2)\n",
            "  Downloading types_python_dateutil-2.9.0.20241206-py3-none-any.whl.metadata (2.1 kB)\n",
            "Downloading jupyterlab-4.3.6-py3-none-any.whl (11.7 MB)\n",
            "\u001b[2K   \u001b[90m━━━━━━━━━━━━━━━━━━━━━━━━━━━━━━━━━━━━━━━━\u001b[0m \u001b[32m11.7/11.7 MB\u001b[0m \u001b[31m88.0 MB/s\u001b[0m eta \u001b[36m0:00:00\u001b[0m\n",
            "\u001b[?25hDownloading numpy_financial-1.0.0-py3-none-any.whl (14 kB)\n",
            "Downloading pydoe3-1.0.4-py2.py3-none-any.whl (25 kB)\n",
            "Downloading async_lru-2.0.5-py3-none-any.whl (6.1 kB)\n",
            "Downloading jupyter_lsp-2.2.5-py3-none-any.whl (69 kB)\n",
            "\u001b[2K   \u001b[90m━━━━━━━━━━━━━━━━━━━━━━━━━━━━━━━━━━━━━━━━\u001b[0m \u001b[32m69.1/69.1 kB\u001b[0m \u001b[31m4.7 MB/s\u001b[0m eta \u001b[36m0:00:00\u001b[0m\n",
            "\u001b[?25hDownloading jupyter_server-2.15.0-py3-none-any.whl (385 kB)\n",
            "\u001b[2K   \u001b[90m━━━━━━━━━━━━━━━━━━━━━━━━━━━━━━━━━━━━━━━━\u001b[0m \u001b[32m385.8/385.8 kB\u001b[0m \u001b[31m21.9 MB/s\u001b[0m eta \u001b[36m0:00:00\u001b[0m\n",
            "\u001b[?25hDownloading jupyterlab_server-2.27.3-py3-none-any.whl (59 kB)\n",
            "\u001b[2K   \u001b[90m━━━━━━━━━━━━━━━━━━━━━━━━━━━━━━━━━━━━━━━━\u001b[0m \u001b[32m59.7/59.7 kB\u001b[0m \u001b[31m4.2 MB/s\u001b[0m eta \u001b[36m0:00:00\u001b[0m\n",
            "\u001b[?25hDownloading json5-0.10.0-py3-none-any.whl (34 kB)\n",
            "Downloading jupyter_client-8.6.3-py3-none-any.whl (106 kB)\n",
            "\u001b[2K   \u001b[90m━━━━━━━━━━━━━━━━━━━━━━━━━━━━━━━━━━━━━━━━\u001b[0m \u001b[32m106.1/106.1 kB\u001b[0m \u001b[31m7.4 MB/s\u001b[0m eta \u001b[36m0:00:00\u001b[0m\n",
            "\u001b[?25hDownloading jupyter_events-0.12.0-py3-none-any.whl (19 kB)\n",
            "Downloading jupyter_server_terminals-0.5.3-py3-none-any.whl (13 kB)\n",
            "Downloading overrides-7.7.0-py3-none-any.whl (17 kB)\n",
            "Downloading jedi-0.19.2-py2.py3-none-any.whl (1.6 MB)\n",
            "\u001b[2K   \u001b[90m━━━━━━━━━━━━━━━━━━━━━━━━━━━━━━━━━━━━━━━━\u001b[0m \u001b[32m1.6/1.6 MB\u001b[0m \u001b[31m53.6 MB/s\u001b[0m eta \u001b[36m0:00:00\u001b[0m\n",
            "\u001b[?25hDownloading python_json_logger-3.3.0-py3-none-any.whl (15 kB)\n",
            "Downloading rfc3986_validator-0.1.1-py2.py3-none-any.whl (4.2 kB)\n",
            "Downloading rfc3339_validator-0.1.4-py2.py3-none-any.whl (3.5 kB)\n",
            "Downloading fqdn-1.5.1-py3-none-any.whl (9.1 kB)\n",
            "Downloading isoduration-20.11.0-py3-none-any.whl (11 kB)\n",
            "Downloading uri_template-1.3.0-py3-none-any.whl (11 kB)\n",
            "Downloading arrow-1.3.0-py3-none-any.whl (66 kB)\n",
            "\u001b[2K   \u001b[90m━━━━━━━━━━━━━━━━━━━━━━━━━━━━━━━━━━━━━━━━\u001b[0m \u001b[32m66.4/66.4 kB\u001b[0m \u001b[31m4.1 MB/s\u001b[0m eta \u001b[36m0:00:00\u001b[0m\n",
            "\u001b[?25hDownloading types_python_dateutil-2.9.0.20241206-py3-none-any.whl (14 kB)\n",
            "Building wheels for collected packages: topfarm, openmdao, pydoe2\n",
            "  Building wheel for topfarm (pyproject.toml) ... \u001b[?25l\u001b[?25hdone\n",
            "  Created wheel for topfarm: filename=topfarm-2.5.1.post2-py3-none-any.whl size=9377751 sha256=334a0591191796c1965f19f1c75710eeba39160e064db923e85dd4986c549a96\n",
            "  Stored in directory: /tmp/pip-ephem-wheel-cache-2bspsn96/wheels/4e/00/f2/e00bdc62b54c0b587eaf05d1d3f8efe2ef5a962495a4bdff9a\n",
            "  Building wheel for openmdao (pyproject.toml) ... \u001b[?25l\u001b[?25hdone\n",
            "  Created wheel for openmdao: filename=openmdao-3.38.0-py3-none-any.whl size=13265406 sha256=d32a82affa394cba13ff0d10c8b9fe6d5571678060baca1180604ef37ff9ae5b\n",
            "  Stored in directory: /root/.cache/pip/wheels/f0/e8/57/5e30138f57c1ae0571d953f2217db9cfd18e2da560e5ef13e6\n",
            "  Building wheel for pydoe2 (setup.py) ... \u001b[?25l\u001b[?25hdone\n",
            "  Created wheel for pydoe2: filename=pyDOE2-1.3.0-py3-none-any.whl size=25524 sha256=94aa8ffe3ff55f8ccbb6bfd8a343c8310c2e59d206a99fdcf17b4890ea54ec20\n",
            "  Stored in directory: /root/.cache/pip/wheels/56/11/60/a0b234151910cf9cff9fdc072f5d42e3c35157b649dbdff3ef\n",
            "Successfully built topfarm openmdao pydoe2\n",
            "Installing collected packages: uri-template, types-python-dateutil, rfc3986-validator, rfc3339-validator, python-json-logger, overrides, numpy-financial, json5, jedi, fqdn, async-lru, pydoe3, pydoe2, openmdao, jupyter-server-terminals, jupyter-client, arrow, isoduration, jupyter-events, jupyter-server, jupyterlab-server, jupyter-lsp, jupyterlab, topfarm\n",
            "  Attempting uninstall: jupyter-client\n",
            "    Found existing installation: jupyter-client 6.1.12\n",
            "    Uninstalling jupyter-client-6.1.12:\n",
            "      Successfully uninstalled jupyter-client-6.1.12\n",
            "  Attempting uninstall: jupyter-server\n",
            "    Found existing installation: jupyter-server 1.24.0\n",
            "    Uninstalling jupyter-server-1.24.0:\n",
            "      Successfully uninstalled jupyter-server-1.24.0\n",
            "\u001b[31mERROR: pip's dependency resolver does not currently take into account all the packages that are installed. This behaviour is the source of the following dependency conflicts.\n",
            "notebook 6.5.5 requires jupyter-client<8,>=5.3.4, but you have jupyter-client 8.6.3 which is incompatible.\u001b[0m\u001b[31m\n",
            "\u001b[0mSuccessfully installed arrow-1.3.0 async-lru-2.0.5 fqdn-1.5.1 isoduration-20.11.0 jedi-0.19.2 json5-0.10.0 jupyter-client-8.6.3 jupyter-events-0.12.0 jupyter-lsp-2.2.5 jupyter-server-2.15.0 jupyter-server-terminals-0.5.3 jupyterlab-4.3.6 jupyterlab-server-2.27.3 numpy-financial-1.0.0 openmdao-3.38.0 overrides-7.7.0 pydoe2-1.3.0 pydoe3-1.0.4 python-json-logger-3.3.0 rfc3339-validator-0.1.4 rfc3986-validator-0.1.1 topfarm-2.5.1.post2 types-python-dateutil-2.9.0.20241206 uri-template-1.3.0\n",
            "\u001b[33mDEPRECATION: git+https://gitlab.windenergy.dtu.dk/TOPFARM/edwin.git#egg=ed_win[interarray] contains an egg fragment with a non-PEP 508 name pip 25.0 will enforce this behaviour change. A possible replacement is to use the req @ url syntax, and remove the egg fragment. Discussion can be found at https://github.com/pypa/pip/issues/11617\u001b[0m\u001b[33m\n",
            "\u001b[0mCollecting ed_win (from ed_win[interarray])\n",
            "  Cloning https://gitlab.windenergy.dtu.dk/TOPFARM/edwin.git to /tmp/pip-install-up9fedv7/ed-win_b706f1c1e88a4269a7f6b29687bf4506\n",
            "  Running command git clone --filter=blob:none --quiet https://gitlab.windenergy.dtu.dk/TOPFARM/edwin.git /tmp/pip-install-up9fedv7/ed-win_b706f1c1e88a4269a7f6b29687bf4506\n",
            "  Resolved https://gitlab.windenergy.dtu.dk/TOPFARM/edwin.git to commit 517099b186a093556129aa75c968924861f9b9b1\n",
            "  Running command git submodule update --init --recursive -q\n",
            "  Preparing metadata (setup.py) ... \u001b[?25l\u001b[?25hdone\n",
            "Requirement already satisfied: networkx in /usr/local/lib/python3.11/dist-packages (from ed_win->ed_win[interarray]) (3.4.2)\n",
            "Requirement already satisfied: matplotlib in /usr/local/lib/python3.11/dist-packages (from ed_win->ed_win[interarray]) (3.10.0)\n",
            "Requirement already satisfied: shapely in /usr/local/lib/python3.11/dist-packages (from ed_win->ed_win[interarray]) (2.0.7)\n",
            "Requirement already satisfied: numpy in /usr/local/lib/python3.11/dist-packages (from ed_win->ed_win[interarray]) (2.0.2)\n",
            "Requirement already satisfied: xarray in /usr/local/lib/python3.11/dist-packages (from ed_win->ed_win[interarray]) (2025.1.2)\n",
            "Requirement already satisfied: scipy in /usr/local/lib/python3.11/dist-packages (from ed_win->ed_win[interarray]) (1.14.1)\n",
            "Collecting windIO (from ed_win->ed_win[interarray])\n",
            "  Downloading windIO-1.0-py3-none-any.whl.metadata (533 bytes)\n",
            "Requirement already satisfied: openpyxl in /usr/local/lib/python3.11/dist-packages (from ed_win->ed_win[interarray]) (3.1.5)\n",
            "Collecting pony (from ed_win->ed_win[interarray])\n",
            "  Downloading pony-0.7.19-py3-none-any.whl.metadata (2.8 kB)\n",
            "Requirement already satisfied: pyyaml in /usr/local/lib/python3.11/dist-packages (from ed_win->ed_win[interarray]) (6.0.2)\n",
            "Collecting utm (from ed_win->ed_win[interarray])\n",
            "  Downloading utm-0.8.1-py3-none-any.whl.metadata (5.2 kB)\n",
            "Requirement already satisfied: pyomo in /usr/local/lib/python3.11/dist-packages (from ed_win->ed_win[interarray]) (6.8.2)\n",
            "Collecting loguru (from ed_win->ed_win[interarray])\n",
            "  Downloading loguru-0.7.3-py3-none-any.whl.metadata (22 kB)\n",
            "Requirement already satisfied: numba in /usr/local/lib/python3.11/dist-packages (from ed_win->ed_win[interarray]) (0.60.0)\n",
            "Collecting ortools (from ed_win->ed_win[interarray])\n",
            "  Downloading ortools-9.12.4544-cp311-cp311-manylinux_2_27_x86_64.manylinux_2_28_x86_64.whl.metadata (3.3 kB)\n",
            "Collecting svg.py (from ed_win->ed_win[interarray])\n",
            "  Downloading svg_py-1.6.0-py3-none-any.whl.metadata (2.1 kB)\n",
            "Requirement already satisfied: contourpy>=1.0.1 in /usr/local/lib/python3.11/dist-packages (from matplotlib->ed_win->ed_win[interarray]) (1.3.1)\n",
            "Requirement already satisfied: cycler>=0.10 in /usr/local/lib/python3.11/dist-packages (from matplotlib->ed_win->ed_win[interarray]) (0.12.1)\n",
            "Requirement already satisfied: fonttools>=4.22.0 in /usr/local/lib/python3.11/dist-packages (from matplotlib->ed_win->ed_win[interarray]) (4.56.0)\n",
            "Requirement already satisfied: kiwisolver>=1.3.1 in /usr/local/lib/python3.11/dist-packages (from matplotlib->ed_win->ed_win[interarray]) (1.4.8)\n",
            "Requirement already satisfied: packaging>=20.0 in /usr/local/lib/python3.11/dist-packages (from matplotlib->ed_win->ed_win[interarray]) (24.2)\n",
            "Requirement already satisfied: pillow>=8 in /usr/local/lib/python3.11/dist-packages (from matplotlib->ed_win->ed_win[interarray]) (11.1.0)\n",
            "Requirement already satisfied: pyparsing>=2.3.1 in /usr/local/lib/python3.11/dist-packages (from matplotlib->ed_win->ed_win[interarray]) (3.2.1)\n",
            "Requirement already satisfied: python-dateutil>=2.7 in /usr/local/lib/python3.11/dist-packages (from matplotlib->ed_win->ed_win[interarray]) (2.8.2)\n",
            "Requirement already satisfied: llvmlite<0.44,>=0.43.0dev0 in /usr/local/lib/python3.11/dist-packages (from numba->ed_win->ed_win[interarray]) (0.43.0)\n",
            "Requirement already satisfied: et-xmlfile in /usr/local/lib/python3.11/dist-packages (from openpyxl->ed_win->ed_win[interarray]) (2.0.0)\n",
            "Collecting absl-py>=2.0.0 (from ortools->ed_win->ed_win[interarray])\n",
            "  Downloading absl_py-2.1.0-py3-none-any.whl.metadata (2.3 kB)\n",
            "Requirement already satisfied: pandas>=2.0.0 in /usr/local/lib/python3.11/dist-packages (from ortools->ed_win->ed_win[interarray]) (2.2.2)\n",
            "Collecting protobuf<5.30,>=5.29.3 (from ortools->ed_win->ed_win[interarray])\n",
            "  Downloading protobuf-5.29.3-cp38-abi3-manylinux2014_x86_64.whl.metadata (592 bytes)\n",
            "Requirement already satisfied: immutabledict>=3.0.0 in /usr/local/lib/python3.11/dist-packages (from ortools->ed_win->ed_win[interarray]) (4.2.1)\n",
            "Requirement already satisfied: ply in /usr/local/lib/python3.11/dist-packages (from pyomo->ed_win->ed_win[interarray]) (3.11)\n",
            "Requirement already satisfied: jsonschema in /usr/local/lib/python3.11/dist-packages (from windIO->ed_win->ed_win[interarray]) (4.23.0)\n",
            "Requirement already satisfied: pytz>=2020.1 in /usr/local/lib/python3.11/dist-packages (from pandas>=2.0.0->ortools->ed_win->ed_win[interarray]) (2025.1)\n",
            "Requirement already satisfied: tzdata>=2022.7 in /usr/local/lib/python3.11/dist-packages (from pandas>=2.0.0->ortools->ed_win->ed_win[interarray]) (2025.1)\n",
            "Requirement already satisfied: six>=1.5 in /usr/local/lib/python3.11/dist-packages (from python-dateutil>=2.7->matplotlib->ed_win->ed_win[interarray]) (1.17.0)\n",
            "Requirement already satisfied: attrs>=22.2.0 in /usr/local/lib/python3.11/dist-packages (from jsonschema->windIO->ed_win->ed_win[interarray]) (25.3.0)\n",
            "Requirement already satisfied: jsonschema-specifications>=2023.03.6 in /usr/local/lib/python3.11/dist-packages (from jsonschema->windIO->ed_win->ed_win[interarray]) (2024.10.1)\n",
            "Requirement already satisfied: referencing>=0.28.4 in /usr/local/lib/python3.11/dist-packages (from jsonschema->windIO->ed_win->ed_win[interarray]) (0.36.2)\n",
            "Requirement already satisfied: rpds-py>=0.7.1 in /usr/local/lib/python3.11/dist-packages (from jsonschema->windIO->ed_win->ed_win[interarray]) (0.23.1)\n",
            "Requirement already satisfied: typing-extensions>=4.4.0 in /usr/local/lib/python3.11/dist-packages (from referencing>=0.28.4->jsonschema->windIO->ed_win->ed_win[interarray]) (4.12.2)\n",
            "Downloading loguru-0.7.3-py3-none-any.whl (61 kB)\n",
            "\u001b[2K   \u001b[90m━━━━━━━━━━━━━━━━━━━━━━━━━━━━━━━━━━━━━━━━\u001b[0m \u001b[32m61.6/61.6 kB\u001b[0m \u001b[31m2.6 MB/s\u001b[0m eta \u001b[36m0:00:00\u001b[0m\n",
            "\u001b[?25hDownloading ortools-9.12.4544-cp311-cp311-manylinux_2_27_x86_64.manylinux_2_28_x86_64.whl (24.9 MB)\n",
            "\u001b[2K   \u001b[90m━━━━━━━━━━━━━━━━━━━━━━━━━━━━━━━━━━━━━━━━\u001b[0m \u001b[32m24.9/24.9 MB\u001b[0m \u001b[31m74.0 MB/s\u001b[0m eta \u001b[36m0:00:00\u001b[0m\n",
            "\u001b[?25hDownloading pony-0.7.19-py3-none-any.whl (317 kB)\n",
            "\u001b[2K   \u001b[90m━━━━━━━━━━━━━━━━━━━━━━━━━━━━━━━━━━━━━━━━\u001b[0m \u001b[32m317.3/317.3 kB\u001b[0m \u001b[31m21.2 MB/s\u001b[0m eta \u001b[36m0:00:00\u001b[0m\n",
            "\u001b[?25hDownloading svg_py-1.6.0-py3-none-any.whl (13 kB)\n",
            "Downloading utm-0.8.1-py3-none-any.whl (8.6 kB)\n",
            "Downloading windIO-1.0-py3-none-any.whl (9.9 kB)\n",
            "Downloading absl_py-2.1.0-py3-none-any.whl (133 kB)\n",
            "\u001b[2K   \u001b[90m━━━━━━━━━━━━━━━━━━━━━━━━━━━━━━━━━━━━━━━━\u001b[0m \u001b[32m133.7/133.7 kB\u001b[0m \u001b[31m11.0 MB/s\u001b[0m eta \u001b[36m0:00:00\u001b[0m\n",
            "\u001b[?25hDownloading protobuf-5.29.3-cp38-abi3-manylinux2014_x86_64.whl (319 kB)\n",
            "\u001b[2K   \u001b[90m━━━━━━━━━━━━━━━━━━━━━━━━━━━━━━━━━━━━━━━━\u001b[0m \u001b[32m319.7/319.7 kB\u001b[0m \u001b[31m18.9 MB/s\u001b[0m eta \u001b[36m0:00:00\u001b[0m\n",
            "\u001b[?25hBuilding wheels for collected packages: ed_win\n",
            "  Building wheel for ed_win (setup.py) ... \u001b[?25l\u001b[?25hdone\n",
            "  Created wheel for ed_win: filename=ed_win-1.1.0-py3-none-any.whl size=265674 sha256=a45524b0d90b7ebe7df2e541007dc4c6635be7a64ee5ee0636d14b46b9ed15e8\n",
            "  Stored in directory: /tmp/pip-ephem-wheel-cache-8_xioygz/wheels/bc/ea/b6/b70d8e62956a2409861bbe10e92ed58cb22b35caaa9ca20551\n",
            "Successfully built ed_win\n",
            "Installing collected packages: pony, utm, svg.py, protobuf, loguru, absl-py, ortools, windIO, ed_win\n",
            "  Attempting uninstall: protobuf\n",
            "    Found existing installation: protobuf 4.25.6\n",
            "    Uninstalling protobuf-4.25.6:\n",
            "      Successfully uninstalled protobuf-4.25.6\n",
            "  Attempting uninstall: absl-py\n",
            "    Found existing installation: absl-py 1.4.0\n",
            "    Uninstalling absl-py-1.4.0:\n",
            "      Successfully uninstalled absl-py-1.4.0\n",
            "Successfully installed absl-py-2.1.0 ed_win-1.1.0 loguru-0.7.3 ortools-9.12.4544 pony-0.7.19 protobuf-5.29.3 svg.py-1.6.0 utm-0.8.1 windIO-1.0\n",
            "Found existing installation: ortools 9.12.4544\n",
            "Uninstalling ortools-9.12.4544:\n",
            "  Successfully uninstalled ortools-9.12.4544\n",
            "Collecting ortools==9.6.2534\n",
            "  Downloading ortools-9.6.2534-cp311-cp311-manylinux_2_17_x86_64.manylinux2014_x86_64.whl.metadata (2.8 kB)\n",
            "Requirement already satisfied: absl-py>=0.13 in /usr/local/lib/python3.11/dist-packages (from ortools==9.6.2534) (2.1.0)\n",
            "Requirement already satisfied: numpy>=1.13.3 in /usr/local/lib/python3.11/dist-packages (from ortools==9.6.2534) (2.0.2)\n",
            "Requirement already satisfied: protobuf>=4.21.12 in /usr/local/lib/python3.11/dist-packages (from ortools==9.6.2534) (5.29.3)\n",
            "Requirement already satisfied: scipy>=1.10.0 in /usr/local/lib/python3.11/dist-packages (from ortools==9.6.2534) (1.14.1)\n",
            "Downloading ortools-9.6.2534-cp311-cp311-manylinux_2_17_x86_64.manylinux2014_x86_64.whl (16.4 MB)\n",
            "\u001b[2K   \u001b[90m━━━━━━━━━━━━━━━━━━━━━━━━━━━━━━━━━━━━━━━━\u001b[0m \u001b[32m16.4/16.4 MB\u001b[0m \u001b[31m67.9 MB/s\u001b[0m eta \u001b[36m0:00:00\u001b[0m\n",
            "\u001b[?25hInstalling collected packages: ortools\n",
            "Successfully installed ortools-9.6.2534\n"
          ]
        }
      ]
    },
    {
      "cell_type": "code",
      "source": [
        "## IMPORT ALL REQUIRED FUNCTIONS\n",
        "\n",
        "import os\n",
        "import pickle\n",
        "import matplotlib.pyplot as plt\n",
        "import numpy as np\n",
        "from openmdao.api import n2\n",
        "\n",
        "from topfarm._topfarm import TopFarmProblem, TopFarmGroup\n",
        "from topfarm.cost_models.cost_model_wrappers import CostModelComponent\n",
        "from topfarm.plotting import XYPlotComp\n",
        "from topfarm.cost_models.py_wake_wrapper import PyWakeAEPCostModelComponent\n",
        "from topfarm import SpacingConstraint, XYBoundaryConstraint\n",
        "from topfarm.cost_models.economic_models.dtu_wind_cm_main import economic_evaluation\n",
        "\n",
        "from py_wake.examples.data.hornsrev1 import wt_x, wt_y, HornsrevV80, Hornsrev1Site\n",
        "from py_wake import NOJ\n",
        "from py_wake.utils.gradients import autograd\n",
        "\n",
        "from ed_win.wind_farm_network import WindFarmNetwork"
      ],
      "metadata": {
        "id": "_v3UmlNuqisg",
        "colab": {
          "base_uri": "https://localhost:8080/",
          "height": 384
        },
        "outputId": "a248d02f-00b1-4e87-cfd3-0f40e94b9b8c"
      },
      "execution_count": 2,
      "outputs": [
        {
          "output_type": "error",
          "ename": "ImportError",
          "evalue": "cannot import name 'SpacingConstraint' from 'topfarm' (/usr/local/lib/python3.11/dist-packages/topfarm/__init__.py)",
          "traceback": [
            "\u001b[0;31m---------------------------------------------------------------------------\u001b[0m",
            "\u001b[0;31mImportError\u001b[0m                               Traceback (most recent call last)",
            "\u001b[0;32m<ipython-input-2-96db9ac900c5>\u001b[0m in \u001b[0;36m<cell line: 0>\u001b[0;34m()\u001b[0m\n\u001b[1;32m     11\u001b[0m \u001b[0;32mfrom\u001b[0m \u001b[0mtopfarm\u001b[0m\u001b[0;34m.\u001b[0m\u001b[0mplotting\u001b[0m \u001b[0;32mimport\u001b[0m \u001b[0mXYPlotComp\u001b[0m\u001b[0;34m\u001b[0m\u001b[0;34m\u001b[0m\u001b[0m\n\u001b[1;32m     12\u001b[0m \u001b[0;32mfrom\u001b[0m \u001b[0mtopfarm\u001b[0m\u001b[0;34m.\u001b[0m\u001b[0mcost_models\u001b[0m\u001b[0;34m.\u001b[0m\u001b[0mpy_wake_wrapper\u001b[0m \u001b[0;32mimport\u001b[0m \u001b[0mPyWakeAEPCostModelComponent\u001b[0m\u001b[0;34m\u001b[0m\u001b[0;34m\u001b[0m\u001b[0m\n\u001b[0;32m---> 13\u001b[0;31m \u001b[0;32mfrom\u001b[0m \u001b[0mtopfarm\u001b[0m \u001b[0;32mimport\u001b[0m \u001b[0mSpacingConstraint\u001b[0m\u001b[0;34m,\u001b[0m \u001b[0mXYBoundaryConstraint\u001b[0m\u001b[0;34m\u001b[0m\u001b[0;34m\u001b[0m\u001b[0m\n\u001b[0m\u001b[1;32m     14\u001b[0m \u001b[0;32mfrom\u001b[0m \u001b[0mtopfarm\u001b[0m\u001b[0;34m.\u001b[0m\u001b[0mcost_models\u001b[0m\u001b[0;34m.\u001b[0m\u001b[0meconomic_models\u001b[0m\u001b[0;34m.\u001b[0m\u001b[0mdtu_wind_cm_main\u001b[0m \u001b[0;32mimport\u001b[0m \u001b[0meconomic_evaluation\u001b[0m\u001b[0;34m\u001b[0m\u001b[0;34m\u001b[0m\u001b[0m\n\u001b[1;32m     15\u001b[0m \u001b[0;34m\u001b[0m\u001b[0m\n",
            "\u001b[0;31mImportError\u001b[0m: cannot import name 'SpacingConstraint' from 'topfarm' (/usr/local/lib/python3.11/dist-packages/topfarm/__init__.py)",
            "",
            "\u001b[0;31m---------------------------------------------------------------------------\u001b[0;32m\nNOTE: If your import is failing due to a missing package, you can\nmanually install dependencies using either !pip or !apt.\n\nTo view examples of installing some common dependencies, click the\n\"Open Examples\" button below.\n\u001b[0;31m---------------------------------------------------------------------------\u001b[0m\n"
          ],
          "errorDetails": {
            "actions": [
              {
                "action": "open_url",
                "actionText": "Open Examples",
                "url": "/notebooks/snippets/importing_libraries.ipynb"
              }
            ]
          }
        }
      ]
    },
    {
      "cell_type": "code",
      "source": [
        "## SETUP OF WIND FARM MODEL\n",
        "\n",
        "x_init = np.array(wt_x)[np.array([0, 1, 8, 9])]\n",
        "y_init = np.array(wt_y)[np.array([0, 1, 8, 9])]\n",
        "n_wt = len(x_init)\n",
        "wt = HornsrevV80()\n",
        "site = Hornsrev1Site()\n",
        "wf_model = NOJ(site, wt)\n",
        "aep = wf_model(wt_x, wt_y).aep()"
      ],
      "metadata": {
        "id": "3UJ8NFmo-o7O"
      },
      "execution_count": null,
      "outputs": []
    },
    {
      "cell_type": "code",
      "source": [
        "## SETUP OF ELECTRICAL COLLECTION SYSTEM MODEL\n",
        "\n",
        "turbines_pos=np.asarray([wt_x, wt_y]).T\n",
        "substations_pos = np.asarray([[359470], [6153890]]).T\n",
        "\n",
        "cables = np.array([[500, 3, 100], [800, 5, 150], [1000, 10, 250]])\n",
        "\n",
        "wfn = WindFarmNetwork(turbines_pos=turbines_pos, substations_pos=substations_pos, cables=cables)"
      ],
      "metadata": {
        "id": "zekfC_0A_5Wy"
      },
      "execution_count": null,
      "outputs": []
    },
    {
      "cell_type": "code",
      "source": [
        "## SETUP OF ECONOMICAL MODEL\n",
        "\n",
        "Drotor_vector = [wt.diameter()] * n_wt\n",
        "power_rated_vector = [float(wt.power(20))*1e-6] * n_wt\n",
        "hub_height_vector = [wt.hub_height()] * n_wt\n",
        "\n",
        "# add additional cost model inputs for shore distance, energy price, project lifetime, rated rotor speed and water depth\n",
        "distance_from_shore = 30         # [km]\n",
        "energy_price = 0.4               # [Euro/kWh] What we get per kWh\n",
        "project_duration = 20            # [years]\n",
        "rated_rpm_array = [12] * n_wt    # [rpm]\n",
        "# water_depth_array = [15] * n_wt  # [m]\n",
        "eco_eval = economic_evaluation(distance_from_shore, energy_price, project_duration)"
      ],
      "metadata": {
        "id": "qPhrxrP3B2Xw"
      },
      "execution_count": null,
      "outputs": []
    },
    {
      "cell_type": "code",
      "source": [
        "## SETUP OF WRAPPER FUNCTIONS\n",
        "\n",
        "def waterdepth_func(x, y, **kwargs):\n",
        "  # insert a good water depth model here\n",
        "  return 20\n",
        "\n",
        "def cable_func(x, y, x_substation, y_substation, **kwargs):\n",
        "  G = wfn.optimize(turbines_pos= np.asarray([x, y]).T)\n",
        "  return G.size(weight=\"cost\")\n",
        "\n",
        "def npv_func(AEP, water_depth, cabling_cost, **kwargs):\n",
        "    eco_eval.calculate_npv(rated_rpm_array, Drotor_vector, power_rated_vector, hub_height_vector, water_depth, AEP/n_wt * np.ones(n_wt)*10**6, cabling_cost=cabling_cost)\n",
        "    CAPEX = eco_eval.project_costs_sums[\"CAPEX\"]\n",
        "    OPEX = eco_eval.project_costs_sums[\"OPEX\"]\n",
        "    return [eco_eval.NPV, CAPEX, OPEX]"
      ],
      "metadata": {
        "id": "hhXKyGkF6lUt"
      },
      "execution_count": null,
      "outputs": []
    },
    {
      "cell_type": "code",
      "source": [
        "## SETUP OF COMPONENTS\n",
        "\n",
        "aep_component = PyWakeAEPCostModelComponent(wf_model, n_wt, grad_method=autograd, objective=False)\n",
        "\n",
        "water_depth_component = CostModelComponent(input_keys=[('x', x_init),('y', y_init)],\n",
        "                                          n_wt=n_wt,\n",
        "                                          cost_function=waterdepth_func,\n",
        "                                          objective=False,\n",
        "                                          output_keys=[('water_depth', np.zeros(n_wt))])\n",
        "\n",
        "cable_component = CostModelComponent(input_keys=[('x', x_init),('y', y_init), ('x_substation', 424700), ('y_substation', 6150800)],\n",
        "                                     n_wt=n_wt,\n",
        "                                     cost_function=cable_func,\n",
        "                                     objective=False,\n",
        "                                     output_keys=[('cabling_cost', 1000)])\n",
        "\n",
        "npv_comp = CostModelComponent(input_keys=[('AEP', 0), ('water_depth', 30*np.ones(n_wt)), ('cabling_cost', 1000)],\n",
        "                              n_wt=n_wt,\n",
        "                              cost_function=npv_func,\n",
        "                              objective=True,\n",
        "                              maximize=True,\n",
        "                              output_keys=[('npv', 0), ('CAPEX', 0), ('OPEX', 0)])\n",
        "\n",
        "cost_comp = TopFarmGroup([aep_component, water_depth_component, cable_component, npv_comp])"
      ],
      "metadata": {
        "id": "PY_Rd7KW6PG7"
      },
      "execution_count": null,
      "outputs": []
    },
    {
      "cell_type": "code",
      "source": [
        "## SETUP OF PROBLEM\n",
        "\n",
        "problem = TopFarmProblem(design_vars={'x': x_init, 'y': y_init, 'x_substation': 424700, 'y_substation': 6150800},\n",
        "                  cost_comp=cost_comp,\n",
        "                  constraints=[XYBoundaryConstraint(np.asarray([x_init, y_init]).T, boundary_type='rectangle'),\n",
        "                              SpacingConstraint(4 * wt.diameter())],\n",
        "                  plot_comp=XYPlotComp())"
      ],
      "metadata": {
        "id": "eMmYJ7yS4WXT"
      },
      "execution_count": null,
      "outputs": []
    },
    {
      "cell_type": "code",
      "source": [
        "problem.evaluate()"
      ],
      "metadata": {
        "id": "jOQ7ydCH6Ekc"
      },
      "execution_count": null,
      "outputs": []
    },
    {
      "cell_type": "code",
      "source": [
        "cost, state, recorder = problem.optimize()"
      ],
      "metadata": {
        "id": "igtg3W-492wT"
      },
      "execution_count": null,
      "outputs": []
    },
    {
      "cell_type": "code",
      "source": [
        "## PLOT N2 DIAGRAM TO INSPECT YOUR PROBLEM SETUP\n",
        "\n",
        "n2(problem, display_in_notebook=True)"
      ],
      "metadata": {
        "id": "Srqw9qqdFzdB"
      },
      "execution_count": null,
      "outputs": []
    },
    {
      "cell_type": "code",
      "source": [
        "## PLOT WIND FARM\n",
        "\n",
        "plt.plot(x_init, y_init, '2k', markersize=30)"
      ],
      "metadata": {
        "id": "_3vKwcDOHwPt"
      },
      "execution_count": null,
      "outputs": []
    },
    {
      "cell_type": "code",
      "source": [
        "## ACCESSING DATA\n",
        "\n",
        "fig = plt.figure()\n",
        "plt.plot(recorder['timestamp']-recorder['timestamp'][0], recorder['npv'])\n",
        "plt.xlabel(\"time [s]\")\n",
        "plt.ylabel(\"npv [EUR]\")\n"
      ],
      "metadata": {
        "id": "KW7TOtvSHwhE"
      },
      "execution_count": null,
      "outputs": []
    },
    {
      "cell_type": "code",
      "source": [
        "problem['CAPEX']"
      ],
      "metadata": {
        "id": "OHU970dFvqxS"
      },
      "execution_count": null,
      "outputs": []
    },
    {
      "cell_type": "code",
      "source": [
        "problem[\"OPEX\"]"
      ],
      "metadata": {
        "id": "R7Tb25erl32H"
      },
      "execution_count": null,
      "outputs": []
    },
    {
      "cell_type": "code",
      "source": [
        "turbines_pos=np.asarray([problem['x'], problem['y']]).T\n",
        "substations_pos = np.asarray([problem['x_substation'], problem['y_substation']]).T\n",
        "G = wfn.optimize(turbines_pos=turbines_pos, substations_pos=substations_pos)"
      ],
      "metadata": {
        "id": "_zxQA8BhRKyF"
      },
      "execution_count": null,
      "outputs": []
    },
    {
      "cell_type": "code",
      "source": [
        "G.plot()"
      ],
      "metadata": {
        "id": "iUoqG6AQ4IQ2"
      },
      "execution_count": null,
      "outputs": []
    },
    {
      "cell_type": "code",
      "source": [],
      "metadata": {
        "id": "1kkeWl7j4JKe"
      },
      "execution_count": null,
      "outputs": []
    }
  ]
}